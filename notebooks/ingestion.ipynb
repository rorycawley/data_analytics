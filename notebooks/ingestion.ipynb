{
 "cells": [
  {
   "cell_type": "code",
   "execution_count": 1,
   "metadata": {},
   "outputs": [
    {
     "name": "stdout",
     "output_type": "stream",
     "text": [
      "Requirement already satisfied: duckdb in /Users/rorycawley/.local/lib/python3.11/site-packages (1.1.3)\n",
      "\n",
      "\u001b[1m[\u001b[0m\u001b[34;49mnotice\u001b[0m\u001b[1;39;49m]\u001b[0m\u001b[39;49m A new release of pip is available: \u001b[0m\u001b[31;49m24.3.1\u001b[0m\u001b[39;49m -> \u001b[0m\u001b[32;49m25.0\u001b[0m\n",
      "\u001b[1m[\u001b[0m\u001b[34;49mnotice\u001b[0m\u001b[1;39;49m]\u001b[0m\u001b[39;49m To update, run: \u001b[0m\u001b[32;49mpip install --upgrade pip\u001b[0m\n",
      "Note: you may need to restart the kernel to use updated packages.\n"
     ]
    }
   ],
   "source": [
    "%pip install duckdb"
   ]
  },
  {
   "cell_type": "code",
   "execution_count": 5,
   "metadata": {},
   "outputs": [
    {
     "name": "stdout",
     "output_type": "stream",
     "text": [
      "[('companies_db', 'companies_db_data', 'companies', 'BASE TABLE', None, None, None, None, None, 'YES', 'NO', None, None), ('companies_db', 'companies_db_data', 'directors', 'BASE TABLE', None, None, None, None, None, 'YES', 'NO', None, None), ('companies_db', 'companies_db_data', '_dlt_loads', 'BASE TABLE', None, None, None, None, None, 'YES', 'NO', None, None), ('companies_db', 'companies_db_data', '_dlt_pipeline_state', 'BASE TABLE', None, None, None, None, None, 'YES', 'NO', None, None), ('companies_db', 'companies_db_data', '_dlt_version', 'BASE TABLE', None, None, None, None, None, 'YES', 'NO', None, None)]\n"
     ]
    }
   ],
   "source": [
    "import duckdb\n",
    "\n",
    "with duckdb.connect(\"../data/ingestion/duckdb/companies_db.duckdb\") as conn:\n",
    "    print(conn.execute(\"SELECT * FROM information_schema.tables\").fetchall())"
   ]
  }
 ],
 "metadata": {
  "kernelspec": {
   "display_name": "3.11.9",
   "language": "python",
   "name": "python3"
  },
  "language_info": {
   "codemirror_mode": {
    "name": "ipython",
    "version": 3
   },
   "file_extension": ".py",
   "mimetype": "text/x-python",
   "name": "python",
   "nbconvert_exporter": "python",
   "pygments_lexer": "ipython3",
   "version": "3.11.9"
  }
 },
 "nbformat": 4,
 "nbformat_minor": 2
}
